{
 "cells": [
  {
   "cell_type": "code",
   "execution_count": 1,
   "id": "db018dd6-fff0-4130-bdd4-c66b24904ba0",
   "metadata": {},
   "outputs": [],
   "source": [
    "import cv2\n",
    "import os"
   ]
  },
  {
   "cell_type": "code",
   "execution_count": 2,
   "id": "aa582e6b-a6b2-4eeb-a28a-e6f5a7c6e236",
   "metadata": {},
   "outputs": [
    {
     "name": "stdin",
     "output_type": "stream",
     "text": [
      "Enter secret message: Hiya!!\n",
      "Enter a passcode: 12345\n",
      "Enter passcode for Decryption 12345\n"
     ]
    },
    {
     "name": "stdout",
     "output_type": "stream",
     "text": [
      "Decryption message: Hiya!!\n"
     ]
    }
   ],
   "source": [
    "img = cv2.imread(\"photo.jpg\")\n",
    "\n",
    "msg = input(\"Enter secret message:\")\n",
    "password = input(\"Enter a passcode:\")\n",
    "\n",
    "d = {}\n",
    "c = {}\n",
    "for i in range(255):\n",
    "    d[chr(i)] = i\n",
    "    c[i] = chr(i)\n",
    "m = 0\n",
    "n = 0\n",
    "z = 0\n",
    "for i in range(len(msg)):\n",
    "    img[n, m, z] = d[msg[i]]\n",
    "    n = n + 1\n",
    "    m = m + 1\n",
    "    z = (z + 1) % 3\n",
    "cv2.imwrite(\"encryptedImage.jpg\", img)\n",
    "os.system(\"start encryptedImage.jpg\")  # Use 'start' to open the image on Windows\n",
    "\n",
    "message = \"\"\n",
    "n = 0\n",
    "m = 0\n",
    "z = 0\n",
    "pas = input(\"Enter passcode for Decryption\")\n",
    "if password == pas:\n",
    "    for i in range(len(msg)):\n",
    "        message = message + c[img[n, m, z]]\n",
    "        n = n + 1\n",
    "        m = m + 1\n",
    "        z = (z + 1) % 3\n",
    "    print(\"Decryption message:\", message)\n",
    "else:\n",
    "    print(\"YOU ARE NOT auth\")"
   ]
  }
 ],
 "metadata": {
  "kernelspec": {
   "display_name": "Python 3 (ipykernel)",
   "language": "python",
   "name": "python3"
  },
  "language_info": {
   "codemirror_mode": {
    "name": "ipython",
    "version": 3
   },
   "file_extension": ".py",
   "mimetype": "text/x-python",
   "name": "python",
   "nbconvert_exporter": "python",
   "pygments_lexer": "ipython3",
   "version": "3.11.5"
  }
 },
 "nbformat": 4,
 "nbformat_minor": 5
}
